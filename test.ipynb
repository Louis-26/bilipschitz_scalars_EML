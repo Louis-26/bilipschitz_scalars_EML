{
 "cells": [
  {
   "cell_type": "code",
   "execution_count": 1,
   "id": "861b16a6",
   "metadata": {},
   "outputs": [],
   "source": [
    "import cvxpy as cp\n",
    "import numpy as np\n",
    "\n",
    "def solve_quadratic_program(H, f, A, b):\n",
    "    \"\"\"\n",
    "    Solve the quadratic program:\n",
    "        minimize    (1/2) x^T H x + f^T x\n",
    "        subject to  A x <= b\n",
    "\n",
    "    Parameters:\n",
    "    H : np.ndarray\n",
    "        Symmetric matrix for the quadratic term.\n",
    "    f : np.ndarray\n",
    "        Coefficient vector for the linear term.\n",
    "    A : np.ndarray\n",
    "        Coefficient matrix for the inequality constraints.\n",
    "    b : np.ndarray\n",
    "        Right-hand side vector for the inequality constraints.\n",
    "\n",
    "    Returns:\n",
    "    x : np.ndarray\n",
    "        The optimal solution vector.\n",
    "    \"\"\"\n",
    "    \n",
    "    n = H.shape[0]\n",
    "    \n",
    "    # Define the variable\n",
    "    x = cp.Variable(n)\n",
    "    \n",
    "    # Define the objective function\n",
    "    objective = cp.Minimize(0.5 * cp.quad_form(x, H) + f.T @ x)\n",
    "    \n",
    "    # Define the constraints\n",
    "    constraints = [A @ x <= b]\n",
    "    \n",
    "    # Formulate the problem\n",
    "    problem = cp.Problem(objective, constraints)\n",
    "    \n",
    "    # Solve the problem\n",
    "    problem.solve(solver=cp.GUROBI, verbose=True)\n",
    "    \n",
    "    return x.value\n",
    "\n"
   ]
  },
  {
   "cell_type": "code",
   "execution_count": 2,
   "id": "28674da0",
   "metadata": {},
   "outputs": [
    {
     "name": "stderr",
     "output_type": "stream",
     "text": [
      "(CVXPY) Jun 08 02:22:59 PM: Your problem has 2 variables, 3 constraints, and 0 parameters.\n",
      "(CVXPY) Jun 08 02:22:59 PM: It is compliant with the following grammars: DCP, DQCP\n",
      "(CVXPY) Jun 08 02:22:59 PM: (If you need to solve this problem multiple times, but with different data, consider using parameters.)\n",
      "(CVXPY) Jun 08 02:22:59 PM: CVXPY will first compile your problem; then, it will invoke a numerical solver to obtain a solution.\n",
      "(CVXPY) Jun 08 02:22:59 PM: Your problem is compiled with the CPP canonicalization backend.\n",
      "(CVXPY) Jun 08 02:23:00 PM: Compiling problem (target solver=GUROBI).\n",
      "(CVXPY) Jun 08 02:23:00 PM: Reduction chain: CvxAttr2Constr -> Qp2SymbolicQp -> QpMatrixStuffing -> GUROBI\n",
      "(CVXPY) Jun 08 02:23:00 PM: Applying reduction CvxAttr2Constr\n",
      "(CVXPY) Jun 08 02:23:00 PM: Applying reduction Qp2SymbolicQp\n",
      "(CVXPY) Jun 08 02:23:00 PM: Applying reduction QpMatrixStuffing\n",
      "(CVXPY) Jun 08 02:23:00 PM: Applying reduction GUROBI\n",
      "(CVXPY) Jun 08 02:23:00 PM: Finished problem compilation (took 1.120e-02 seconds).\n",
      "(CVXPY) Jun 08 02:23:00 PM: Invoking solver GUROBI  to obtain a solution.\n"
     ]
    },
    {
     "name": "stdout",
     "output_type": "stream",
     "text": [
      "===============================================================================\n",
      "                                     CVXPY                                     \n",
      "                                     v1.6.6                                    \n",
      "===============================================================================\n",
      "-------------------------------------------------------------------------------\n",
      "                                  Compilation                                  \n",
      "-------------------------------------------------------------------------------\n",
      "-------------------------------------------------------------------------------\n",
      "                                Numerical solver                               \n",
      "-------------------------------------------------------------------------------\n",
      "Restricted license - for non-production use only - expires 2026-11-23\n",
      "Set parameter OutputFlag to value 1\n",
      "Set parameter QCPDual to value 1\n",
      "Gurobi Optimizer version 12.0.2 build v12.0.2rc0 (win64 - Windows 11.0 (22631.2))\n",
      "\n",
      "CPU model: 12th Gen Intel(R) Core(TM) i9-12900, instruction set [SSE2|AVX|AVX2]\n",
      "Thread count: 16 physical cores, 24 logical processors, using up to 24 threads\n",
      "\n",
      "Non-default parameters:\n",
      "QCPDual  1\n",
      "\n",
      "Optimize a model with 3 rows, 2 columns and 6 nonzeros\n",
      "Model fingerprint: 0x3ae50f5a\n",
      "Model has 2 quadratic objective terms\n",
      "Coefficient statistics:\n",
      "  Matrix range     [1e+00, 2e+00]\n",
      "  Objective range  [2e+00, 5e+00]\n",
      "  QObjective range [2e+00, 2e+00]\n",
      "  Bounds range     [0e+00, 0e+00]\n",
      "  RHS range        [2e+00, 3e+00]\n",
      "Presolve time: 0.00s\n",
      "Presolved: 3 rows, 2 columns, 6 nonzeros\n",
      "Presolved model has 2 quadratic objective terms\n",
      "Ordering time: 0.00s\n",
      "\n",
      "Barrier statistics:\n",
      " Free vars  : 2\n",
      " AA' NZ     : 3.000e+00\n",
      " Factor NZ  : 6.000e+00\n",
      " Factor Ops : 1.400e+01 (less than 1 second per iteration)\n",
      " Threads    : 1\n",
      "\n",
      "                  Objective                Residual\n",
      "Iter       Primal          Dual         Primal    Dual     Compl     Time\n",
      "   0  -2.47498988e-05 -2.30623512e-11  0.00e+00 2.50e+00  1.00e+06     0s\n",
      "   1   1.50257742e+05 -1.49384482e+05  0.00e+00 2.50e-06  9.99e+04     0s\n",
      "   2   2.21135547e+04 -2.17874792e+04  0.00e+00 2.47e-12  1.46e+04     0s\n",
      "   3   3.27421798e+03 -3.15754641e+03  0.00e+00 3.55e-15  2.14e+03     0s\n",
      "   4   4.89326748e+02 -4.52786521e+02  0.00e+00 0.00e+00  3.14e+02     0s\n",
      "   5   7.18567635e+01 -6.59652938e+01  0.00e+00 1.78e-15  4.59e+01     0s\n",
      "   6   7.09667540e+00 -1.28895770e+01  0.00e+00 8.88e-16  6.66e+00     0s\n",
      "   7  -3.70933564e+00 -6.43889748e+00  0.00e+00 2.22e-16  9.10e-01     0s\n",
      "   8  -5.64383875e+00 -5.88975103e+00  0.00e+00 0.00e+00  8.20e-02     0s\n",
      "   9  -5.76812136e+00 -5.77817183e+00  0.00e+00 2.22e-16  3.35e-03     0s\n",
      "  10  -5.77776814e+00 -5.77777814e+00  0.00e+00 0.00e+00  3.33e-06     0s\n",
      "  11  -5.77777777e+00 -5.77777778e+00  0.00e+00 1.11e-16  3.33e-09     0s\n",
      "\n",
      "Barrier solved model in 11 iterations and 0.01 seconds (0.00 work units)\n",
      "Optimal objective -5.77777777e+00\n",
      "\n"
     ]
    },
    {
     "name": "stderr",
     "output_type": "stream",
     "text": [
      "(CVXPY) Jun 08 02:23:00 PM: Problem status: optimal\n",
      "(CVXPY) Jun 08 02:23:00 PM: Optimal value: -5.778e+00\n",
      "(CVXPY) Jun 08 02:23:00 PM: Compilation took 1.120e-02 seconds\n",
      "(CVXPY) Jun 08 02:23:00 PM: Solver (including time spent in interface) took 3.219e-02 seconds\n"
     ]
    },
    {
     "name": "stdout",
     "output_type": "stream",
     "text": [
      "-------------------------------------------------------------------------------\n",
      "                                    Summary                                    \n",
      "-------------------------------------------------------------------------------\n",
      "Optimal solution: [0.66666667 1.33333333]\n"
     ]
    }
   ],
   "source": [
    "H= np.array([[2, 0], [0, 2]])\n",
    "f = np.array([-2, -5])\n",
    "A = np.array([[1, 1], [-1, 2], [2, 1]])\n",
    "b = np.array([2, 2, 3])\n",
    "\n",
    "# Solve the quadratic program\n",
    "solution = solve_quadratic_program(H, f, A, b)\n",
    "print(\"Optimal solution:\", solution)\n",
    "# Check if the solution is None\n"
   ]
  },
  {
   "cell_type": "code",
   "execution_count": null,
   "id": "3d11e722",
   "metadata": {},
   "outputs": [],
   "source": []
  }
 ],
 "metadata": {
  "kernelspec": {
   "display_name": "torch",
   "language": "python",
   "name": "python3"
  },
  "language_info": {
   "codemirror_mode": {
    "name": "ipython",
    "version": 3
   },
   "file_extension": ".py",
   "mimetype": "text/x-python",
   "name": "python",
   "nbconvert_exporter": "python",
   "pygments_lexer": "ipython3",
   "version": "3.12.9"
  }
 },
 "nbformat": 4,
 "nbformat_minor": 5
}
