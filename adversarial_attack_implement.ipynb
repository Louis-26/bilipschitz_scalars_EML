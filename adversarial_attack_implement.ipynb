{
 "cells": [
  {
   "cell_type": "markdown",
   "id": "e59bb7a0",
   "metadata": {},
   "source": [
    "Implement adversarial attacks to the baseline models from weichi's paper and the modified bilipschitz version of those models and make some plots comparing them"
   ]
  },
  {
   "cell_type": "code",
   "execution_count": null,
   "id": "ed0407dc",
   "metadata": {},
   "outputs": [],
   "source": [
    "# baseline model\n"
   ]
  },
  {
   "cell_type": "markdown",
   "id": "0b652f84",
   "metadata": {},
   "source": []
  },
  {
   "cell_type": "code",
   "execution_count": null,
   "id": "966d8bdc",
   "metadata": {},
   "outputs": [],
   "source": []
  },
  {
   "cell_type": "markdown",
   "id": "698004eb",
   "metadata": {},
   "source": []
  },
  {
   "cell_type": "code",
   "execution_count": null,
   "id": "93a4d318",
   "metadata": {},
   "outputs": [],
   "source": []
  },
  {
   "cell_type": "markdown",
   "id": "2c070f58",
   "metadata": {},
   "source": []
  }
 ],
 "metadata": {
  "language_info": {
   "name": "python"
  }
 },
 "nbformat": 4,
 "nbformat_minor": 5
}
