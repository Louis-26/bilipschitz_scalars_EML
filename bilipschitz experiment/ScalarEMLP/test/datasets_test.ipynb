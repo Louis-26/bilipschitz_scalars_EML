{
 "cells": [
  {
   "cell_type": "code",
   "execution_count": null,
   "id": "e05ed38a",
   "metadata": {},
   "outputs": [],
   "source": [
    "import torch\n",
    "import torch.nn as nn\n",
    "import torch.nn.functional as F\n",
    "import numpy as np\n",
    "import jax.numpy as jnpra\n",
    "from scalaremlp.reps import Scalar, Vector, T\n",
    "from torch.utils.data import Dataset\n",
    "from scalaremlp.utils import export\n",
    "from scalaremlp.groups import SO, O, Trivial, Lorentz, RubiksCube, Cube\n",
    "from functools import partial\n",
    "import itertools\n",
    "from jax import vmap, jit\n",
    "from objax import Module"
   ]
  },
  {
   "cell_type": "code",
   "execution_count": null,
   "id": "d3845005",
   "metadata": {},
   "outputs": [],
   "source": [
    "@export\n",
    "class Inertia(Dataset):\n",
    "    def __init__(self, N=1024, k=5):\n",
    "        super().__init__()\n",
    "        self.dim = (1 + 3) * k\n",
    "        self.X = torch.randn(N, self.dim)\n",
    "        self.X[:, :k] = F.softplus(self.X[:, :k])  # Masses\n",
    "        mi = self.X[:, :k]\n",
    "        ri = self.X[:, k:].reshape(-1, k, 3)\n",
    "        I = torch.eye(3)\n",
    "        r2 = (ri ** 2).sum(-1)[..., None, None]\n",
    "        inertia = (mi[:, :, None, None] * (r2 * I - ri[..., None] * ri[..., None, :])).sum(1)\n",
    "        self.Y = inertia.reshape(-1, 9)\n",
    "        self.rep_in = k * Scalar + k * Vector\n",
    "        self.rep_out = T(2)\n",
    "        self.symmetry = O(3)\n",
    "        self.X = self.X.numpy()\n",
    "        self.Y = self.Y.numpy()\n",
    "        # One has to be careful computing offset and scale in a way so that standardizing\n",
    "        # does not violate equivariance\n",
    "        Xmean = self.X.mean(0)\n",
    "        Xmean[k:] = 0\n",
    "        Xstd = np.zeros_like(Xmean)\n",
    "        Xstd[:k] = np.abs(self.X[:, :k]).mean(0)  # .std(0)\n",
    "        # Xstd[k:] = (np.sqrt((self.X[:,k:].reshape(N,k,3)**2).mean((0,2))[:,None]) + np.zeros((k,3))).reshape(k*3)\n",
    "        Xstd[k:] = (np.abs(self.X[:, k:].reshape(N, k, 3)).mean((0, 2))[:, None] + np.zeros((k, 3))).reshape(k * 3)\n",
    "        Ymean = 0 * self.Y.mean(0)\n",
    "        # Ystd = np.sqrt(((self.Y-Ymean)**2).mean((0,1)))+ np.zeros_like(Ymean)\n",
    "        Ystd = np.abs(self.Y - Ymean).mean((0, 1)) + np.zeros_like(Ymean)\n",
    "        self.stats = 0, 1, 0, 1  # Xmean,Xstd,Ymean,Ystd\n",
    "        self.symname = \"O3equivariant\""
   ]
  },
  {
   "cell_type": "code",
   "execution_count": 25,
   "id": "c41f078c",
   "metadata": {},
   "outputs": [
    {
     "name": "stdout",
     "output_type": "stream",
     "text": [
      "torch.Size([1024, 3, 3])\n"
     ]
    }
   ],
   "source": [
    "# with N data points, for each one,\n",
    "N=1024\n",
    "k=5\n",
    "dim=4*k\n",
    "\n",
    "# derive data by random numbers\n",
    "X = torch.randn(N, dim)\n",
    "# print(X)\n",
    "\n",
    "# ensure masses are positive(first five columns)\n",
    "X[:, :k] = F.softplus(X[:, :k])  # Masses\n",
    "# print(X)\n",
    "\n",
    "# mass(first five columns)\n",
    "mi = X[:, :k]\n",
    "\n",
    "# shape: 1024, 5, 3, position of each mass\n",
    "ri = X[:, k:].reshape(-1, k, 3)\n",
    "\n",
    "\n",
    "I = torch.eye(3)\n",
    "# print(ri**2)\n",
    "# summation over each vector of position\n",
    "r2 = (ri ** 2).sum(-1)[..., None, None]\n",
    "inertia = (mi[:, :, None, None] * (r2 * I - ri[..., None] * ri[..., None, :])).sum(1)\n",
    "print(inertia.shape)\n",
    "\n",
    "Y = inertia.reshape(-1, 9)\n",
    "rep_in = k * Scalar + k * Vector\n",
    "rep_out = T(2)\n",
    "symmetry = O(3)"
   ]
  },
  {
   "cell_type": "code",
   "execution_count": 26,
   "id": "6ef8becb",
   "metadata": {},
   "outputs": [
    {
     "data": {
      "text/plain": [
       "O(3)"
      ]
     },
     "execution_count": 26,
     "metadata": {},
     "output_type": "execute_result"
    }
   ],
   "source": [
    "O(3)"
   ]
  }
 ],
 "metadata": {
  "kernelspec": {
   "display_name": "scalar_mlp",
   "language": "python",
   "name": "python3"
  },
  "language_info": {
   "codemirror_mode": {
    "name": "ipython",
    "version": 3
   },
   "file_extension": ".py",
   "mimetype": "text/x-python",
   "name": "python",
   "nbconvert_exporter": "python",
   "pygments_lexer": "ipython3",
   "version": "3.13.5"
  }
 },
 "nbformat": 4,
 "nbformat_minor": 5
}
