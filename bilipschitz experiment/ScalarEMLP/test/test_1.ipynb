{
 "cells": [
  {
   "cell_type": "markdown",
   "id": "f73ed18f",
   "metadata": {},
   "source": [
    "## linear operator base"
   ]
  },
  {
   "cell_type": "code",
   "execution_count": 1,
   "id": "initial_id",
   "metadata": {
    "collapsed": true
   },
   "outputs": [
    {
     "name": "stdout",
     "output_type": "stream",
     "text": [
      "<Compressed Sparse Row sparse matrix of dtype 'int64'\n",
      "\twith 4 stored elements and shape (3, 3)>\n",
      "  Coords\tValues\n",
      "  (0, 0)\t1\n",
      "  (0, 2)\t2\n",
      "  (1, 1)\t-1\n",
      "  (2, 2)\t3\n"
     ]
    }
   ],
   "source": [
    "from scipy.sparse import csr_matrix\n",
    "offsets = csr_matrix([[1, 0, 2], [0, -1, 0], [0, 0, 3]])\n",
    "print(offsets)"
   ]
  },
  {
   "cell_type": "code",
   "execution_count": 11,
   "id": "95fb06ce",
   "metadata": {},
   "outputs": [
    {
     "name": "stdout",
     "output_type": "stream",
     "text": [
      "[2. 3.]\n",
      "[2. 3.]\n",
      "[2. 3.]\n"
     ]
    }
   ],
   "source": [
    "import numpy as np\n",
    "from scipy.sparse.linalg import LinearOperator\n",
    "def mv(v):\n",
    "    return np.array([2*v[0], 3*v[1]])\n",
    "\n",
    "A = LinearOperator((2,2), matvec=mv)\n",
    "\n",
    "print(A.matvec(np.ones(2)))\n",
    "\n",
    "print(A*np.ones(2))\n",
    "\n",
    "print(A@np.ones(2))"
   ]
  },
  {
   "cell_type": "code",
   "execution_count": null,
   "id": "eee9b5e7",
   "metadata": {},
   "outputs": [],
   "source": [
    "a=3\n",
    "b=4\n",
    "c=a+b\n",
    "\n",
    "d=4"
   ]
  },
  {
   "metadata": {},
   "cell_type": "code",
   "outputs": [],
   "execution_count": null,
   "source": "print(\"test1\")",
   "id": "523c53ca251c1181"
  }
 ],
 "metadata": {
  "kernelspec": {
   "display_name": "scalar_mlp",
   "language": "python",
   "name": "python3"
  },
  "language_info": {
   "codemirror_mode": {
    "name": "ipython",
    "version": 3
   },
   "file_extension": ".py",
   "mimetype": "text/x-python",
   "name": "python",
   "nbconvert_exporter": "python",
   "pygments_lexer": "ipython3",
   "version": "3.13.5"
  }
 },
 "nbformat": 4,
 "nbformat_minor": 5
}
