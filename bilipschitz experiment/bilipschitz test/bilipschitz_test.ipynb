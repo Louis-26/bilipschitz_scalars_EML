{
 "cells": [
  {
   "cell_type": "code",
   "execution_count": 31,
   "id": "913b1bb9",
   "metadata": {},
   "outputs": [],
   "source": [
    "import numpy as np\n",
    "import scipy"
   ]
  },
  {
   "cell_type": "code",
   "execution_count": 32,
   "id": "8dc02bf0",
   "metadata": {},
   "outputs": [],
   "source": [
    "def theta(x):\n",
    "    \"\"\"\n",
    "    x: array of shape (n, r)\n",
    "    output: array of shape (n, n)\n",
    "    \"\"\"\n",
    "    U, S, Vh = np.linalg.svd(x @ x.conj().T)\n",
    "\n",
    "    t=np.sqrt(np.diag(S))\n",
    "    return U @ t @ Vh"
   ]
  },
  {
   "cell_type": "code",
   "execution_count": 33,
   "id": "1d072d5b",
   "metadata": {},
   "outputs": [],
   "source": [
    "def D(x, y):\n",
    "    \"\"\"\n",
    "    x, y: numpy arrays of shape (n, r)\n",
    "    output: min ||x - yU|| where U is an orthogonal matrix with shape (r, r)\n",
    "    \"\"\"\n",
    "    return np.sqrt(\n",
    "        np.linalg.norm(x, ord=\"fro\") ** 2\n",
    "        + np.linalg.norm(y, ord=\"fro\") ** 2\n",
    "        - 2 * np.linalg.norm(x.conj().T @ y, ord=\"nuc\")\n",
    "    )"
   ]
  },
  {
   "cell_type": "code",
   "execution_count": 34,
   "id": "2af4361c",
   "metadata": {},
   "outputs": [],
   "source": [
    "def ratio(x, y):\n",
    "\n",
    "    return np.linalg.norm(theta(x) - theta(y), ord=\"fro\") / D(x, y)"
   ]
  },
  {
   "cell_type": "code",
   "execution_count": 37,
   "id": "2e31dc51",
   "metadata": {},
   "outputs": [
    {
     "name": "stdout",
     "output_type": "stream",
     "text": [
      "L_min: 1.0368226478586509\n",
      "L_max: 1.133191272801067\n"
     ]
    }
   ],
   "source": [
    "n=100\n",
    "r=5\n",
    "x = np.random.randn(n, r)\n",
    "y = np.random.randn(n, r)\n",
    "\n",
    "rep_num=100000\n",
    "\n",
    "L_min=np.inf\n",
    "L_max=-np.inf\n",
    "\n",
    "for i in range(rep_num):\n",
    "    x = np.random.randn(n, r)\n",
    "    y = np.random.randn(n, r)\n",
    "    L_min = min(L_min, ratio(x, y))\n",
    "    L_max = max(L_max, ratio(x, y))\n",
    "\n",
    "print(\"L_min:\", L_min)\n",
    "print(\"L_max:\", L_max)"
   ]
  }
 ],
 "metadata": {
  "kernelspec": {
   "display_name": "torch",
   "language": "python",
   "name": "python3"
  },
  "language_info": {
   "codemirror_mode": {
    "name": "ipython",
    "version": 3
   },
   "file_extension": ".py",
   "mimetype": "text/x-python",
   "name": "python",
   "nbconvert_exporter": "python",
   "pygments_lexer": "ipython3",
   "version": "3.12.9"
  }
 },
 "nbformat": 4,
 "nbformat_minor": 5
}
